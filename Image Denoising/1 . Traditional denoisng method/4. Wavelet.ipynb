{
 "cells": [
  {
   "cell_type": "code",
   "execution_count": 1,
   "metadata": {},
   "outputs": [],
   "source": [
    "import matplotlib.pyplot as plt\n",
    "\n",
    "from skimage.restoration import (denoise_wavelet, estimate_sigma)\n",
    "from skimage import data, img_as_float\n",
    "from skimage.util import random_noise\n",
    "from skimage.metrics import peak_signal_noise_ratio, mean_squared_error\n",
    "import cv2\n",
    "\n"
   ]
  },
  {
   "cell_type": "code",
   "execution_count": null,
   "metadata": {},
   "outputs": [],
   "source": [
    "\n",
    "img = cv2.imread('/content/3.jpeg')\n",
    "original = img_as_float(img)\n",
    "# original = img_as_float(data.chelsea()[100:250, 50:300])\n",
    "\n",
    "sigma = 0.12\n",
    "noisy = random_noise(original, var=sigma**2)\n",
    "\n",
    "# fig, ax = plt.subplots(nrows=2, ncols=3, figsize=(8, 5),\n",
    "#                        sharex=True, sharey=True)\n",
    "\n",
    "plt.gray()"
   ]
  },
  {
   "cell_type": "code",
   "execution_count": null,
   "metadata": {},
   "outputs": [],
   "source": [
    "# Estimate the average noise standard deviation across color channels.\n",
    "sigma_est = estimate_sigma(noisy, multichannel=True, average_sigmas=True)\n",
    "# Due to clipping in random_noise, the estimate will be a bit smaller than the\n",
    "# specified sigma.\n",
    "print(f\"Estimated Gaussian noise standard deviation = {sigma_est}\")\n",
    "\n",
    "im_bayes = denoise_wavelet(noisy, multichannel=True, convert2ycbcr=True,\n",
    "                           method='BayesShrink', mode='soft',\n",
    "                           rescale_sigma=True)\n"
   ]
  },
  {
   "cell_type": "code",
   "execution_count": null,
   "metadata": {},
   "outputs": [],
   "source": [
    "\n",
    "psnr_bayes = peak_signal_noise_ratio(original, im_bayes)\n",
    "wavelat_mse = mean_squared_error(original, im_bayes)\n",
    "print(f\"wavelat_mse = {wavelat_mse:0.5f}\")\n",
    "print(f\"psnr_bayes = {psnr_bayes:0.5f}\")\n",
    "\n",
    "plt.imshow(im_bayes) \n",
    "plt.axis('off')"
   ]
  }
 ],
 "metadata": {
  "interpreter": {
   "hash": "0553a33d54591eff79c0296d8334f05c5991be58b5fa6e7fe6b13c7934c343af"
  },
  "kernelspec": {
   "display_name": "Python 3.7.8 64-bit",
   "language": "python",
   "name": "python3"
  },
  "language_info": {
   "codemirror_mode": {
    "name": "ipython",
    "version": 3
   },
   "file_extension": ".py",
   "mimetype": "text/x-python",
   "name": "python",
   "nbconvert_exporter": "python",
   "pygments_lexer": "ipython3",
   "version": "3.7.8"
  },
  "orig_nbformat": 4
 },
 "nbformat": 4,
 "nbformat_minor": 2
}
