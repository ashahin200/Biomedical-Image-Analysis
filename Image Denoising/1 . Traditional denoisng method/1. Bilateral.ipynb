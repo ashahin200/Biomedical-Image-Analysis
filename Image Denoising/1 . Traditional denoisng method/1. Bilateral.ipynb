{
 "cells": [
  {
   "cell_type": "code",
   "execution_count": null,
   "metadata": {},
   "outputs": [],
   "source": [
    "# Read the image. \n",
    "main_img = cv2.imread('/content/otsu_mm.png') \n",
    "main_img_float = img_as_float(main_img)\n",
    "\n",
    "# Apply bilateral filter with d = 15,  \n",
    "# sigmaColor = sigmaSpace = 75. \n",
    "bilateral = cv2.bilateralFilter(main_img, 50, 75, 75) \n",
    "\n",
    "# img_c = cv2.cvtColor(bilateral, cv2.COLOR_BGR2RGBA)\n",
    "\n",
    "psnr2_fast = peak_signal_noise_ratio(main_img_float, bilateral)\n",
    "mse_fast = mean_squared_error(main_img_float, bilateral)\n",
    "print(f\"PSNR (fast, using sigma) = {psnr2_fast:0.2f}\")\n",
    "print(f\"MSE (fast, using sigma) = {mse_fast:0.5f}\")\n",
    "\n",
    "\n",
    "plt.imshow(img_c)"
   ]
  }
 ],
 "metadata": {
  "language_info": {
   "name": "python"
  },
  "orig_nbformat": 4
 },
 "nbformat": 4,
 "nbformat_minor": 2
}
